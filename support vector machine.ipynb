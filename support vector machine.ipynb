{
  "nbformat": 4,
  "nbformat_minor": 0,
  "metadata": {
    "colab": {
      "provenance": [],
      "authorship_tag": "ABX9TyMbZNbFMWRcFt41+N0KcPIp",
      "include_colab_link": true
    },
    "kernelspec": {
      "name": "python3",
      "display_name": "Python 3"
    },
    "language_info": {
      "name": "python"
    }
  },
  "cells": [
    {
      "cell_type": "markdown",
      "metadata": {
        "id": "view-in-github",
        "colab_type": "text"
      },
      "source": [
        "<a href=\"https://colab.research.google.com/github/sanoj8809/Sanoj/blob/main/support%20vector%20machine.ipynb\" target=\"_parent\"><img src=\"https://colab.research.google.com/assets/colab-badge.svg\" alt=\"Open In Colab\"/></a>"
      ]
    },
    {
      "cell_type": "markdown",
      "source": [
        "# New Section"
      ],
      "metadata": {
        "id": "e5v-gxEGplRR"
      }
    },
    {
      "cell_type": "code",
      "source": [
        "from sklearn import datasets\n",
        "iris = datasets.load_iris()\n",
        "\n",
        "x = iris.data\n",
        "y = iris.target\n",
        "\n",
        "from sklearn.model_selection import train_test_split\n",
        "x_train, x_test, y_train, y_test = train_test_split(x,y,train_size=0.8)\n",
        "\n",
        "from sklearn import svm\n",
        "svc_cl = svm.SVC(probability=True)\n",
        "\n",
        "train = svc_cl.fit(x_train, y_train)\n",
        "y_pred = svc_cl.predict(x_test)\n",
        "print(y_pred)\n",
        "y_auc = svc_cl.predict_proba(x_test)\n",
        "\n",
        "from sklearn.metrics import accuracy_score, precision_score, recall_score, f1_score, roc_auc_score\n",
        "Accuracy = accuracy_score(y_test, y_pred)\n",
        "Precision = precision_score(y_test, y_pred, average='macro')\n",
        "Recall = recall_score(y_test, y_pred, average='macro')\n",
        "f1 = f1_score(y_test, y_pred, average='macro')\n",
        "auc = roc_auc_score(y_test, y_auc, multi_class='ovr')\n",
        "\n",
        "print(\"\\nAccuracy : \", Accuracy)\n",
        "print(\"Precision : \", Precision)\n",
        "print(\"Recall : \", Recall)\n",
        "print(\"F1-SCORE : \", f1)\n",
        "print(\"AUC : \", auc)"
      ],
      "metadata": {
        "colab": {
          "base_uri": "https://localhost:8080/"
        },
        "id": "9f9h2E50qtBW",
        "outputId": "f32a5eb1-b995-40e6-eaba-57e69f67570d"
      },
      "execution_count": 8,
      "outputs": [
        {
          "output_type": "stream",
          "name": "stdout",
          "text": [
            "[1 2 0 1 0 0 1 0 1 0 2 1 0 0 1 0 0 2 1 2 1 0 2 1 2 1 1 0 1 1]\n",
            "\n",
            "Accuracy :  1.0\n",
            "Precision :  1.0\n",
            "Recall :  1.0\n",
            "F1-SCORE :  1.0\n",
            "AUC :  1.0\n"
          ]
        }
      ]
    }
  ]
}