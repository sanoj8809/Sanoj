{
  "nbformat": 4,
  "nbformat_minor": 0,
  "metadata": {
    "colab": {
      "provenance": [],
      "authorship_tag": "ABX9TyOsWPkiANhbniUtraEMFQFg",
      "include_colab_link": true
    },
    "kernelspec": {
      "name": "python3",
      "display_name": "Python 3"
    },
    "language_info": {
      "name": "python"
    }
  },
  "cells": [
    {
      "cell_type": "markdown",
      "metadata": {
        "id": "view-in-github",
        "colab_type": "text"
      },
      "source": [
        "<a href=\"https://colab.research.google.com/github/sanoj8809/Sanoj/blob/main/Decision%20tree.ipynb\" target=\"_parent\"><img src=\"https://colab.research.google.com/assets/colab-badge.svg\" alt=\"Open In Colab\"/></a>"
      ]
    },
    {
      "cell_type": "markdown",
      "source": [
        "# New Section"
      ],
      "metadata": {
        "id": "e5v-gxEGplRR"
      }
    },
    {
      "cell_type": "code",
      "source": [
        "from sklearn import datasets\n",
        "iris = datasets.load_iris()\n",
        "\n",
        "x = iris.data\n",
        "y = iris.target\n",
        "\n",
        "from sklearn.model_selection import train_test_split\n",
        "x_train, x_test, y_train, y_test = train_test_split(x,y,train_size=0.8)\n",
        "\n",
        "from sklearn.tree import DecisionTreeClassifier\n",
        "DT = DecisionTreeClassifier()\n",
        "\n",
        "train = DT.fit(x_train, y_train)\n",
        "y_pred = DT.predict(x_test)\n",
        "print(y_pred)\n",
        "y_auc = DT.predict_proba(x_test)\n",
        "\n",
        "from sklearn.metrics import accuracy_score, precision_score, recall_score, f1_score, roc_auc_score\n",
        "Accuracy = accuracy_score(y_test, y_pred)\n",
        "Precision = precision_score(y_test, y_pred, average='macro')\n",
        "Recall = recall_score(y_test, y_pred, average='macro')\n",
        "f1 = f1_score(y_test, y_pred, average='macro')\n",
        "auc = roc_auc_score(y_test, y_auc, multi_class='ovr')\n",
        "\n",
        "print(\"\\nAccuracy : \", Accuracy)\n",
        "print(\"Precision : \", Precision)\n",
        "print(\"Recall : \", Recall)\n",
        "print(\"F1-SCORE : \", f1)\n",
        "print(\"AUC : \", auc)"
      ],
      "metadata": {
        "colab": {
          "base_uri": "https://localhost:8080/"
        },
        "id": "8x1VUE8-ppdr",
        "outputId": "ec5cf00b-d716-4851-efee-577dedf704aa"
      },
      "execution_count": 4,
      "outputs": [
        {
          "output_type": "stream",
          "name": "stdout",
          "text": [
            "[1 1 2 0 2 1 2 1 0 2 1 0 2 2 0 1 0 2 1 1 1 1 1 0 0 0 0 1 0 2]\n",
            "\n",
            "Accuracy :  0.9666666666666667\n",
            "Precision :  0.9722222222222222\n",
            "Recall :  0.9629629629629629\n",
            "F1-SCORE :  0.9658994032395567\n",
            "AUC :  0.9727095516569202\n"
          ]
        }
      ]
    },
    {
      "cell_type": "code",
      "source": [],
      "metadata": {
        "id": "sHr-6nqYpvlq"
      },
      "execution_count": null,
      "outputs": []
    }
  ]
}