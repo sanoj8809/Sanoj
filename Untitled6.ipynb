{
  "nbformat": 4,
  "nbformat_minor": 0,
  "metadata": {
    "colab": {
      "provenance": [],
      "authorship_tag": "ABX9TyNW5hZAbjHwu10eKPrbYvlt",
      "include_colab_link": true
    },
    "kernelspec": {
      "name": "python3",
      "display_name": "Python 3"
    },
    "language_info": {
      "name": "python"
    }
  },
  "cells": [
    {
      "cell_type": "markdown",
      "metadata": {
        "id": "view-in-github",
        "colab_type": "text"
      },
      "source": [
        "<a href=\"https://colab.research.google.com/github/sanoj8809/Sanoj/blob/main/Untitled6.ipynb\" target=\"_parent\"><img src=\"https://colab.research.google.com/assets/colab-badge.svg\" alt=\"Open In Colab\"/></a>"
      ]
    },
    {
      "cell_type": "code",
      "execution_count": 2,
      "metadata": {
        "colab": {
          "base_uri": "https://localhost:8080/"
        },
        "id": "D7jtQXCfv793",
        "outputId": "9e9e1044-29f1-4600-c48b-df5ac4264d84"
      },
      "outputs": [
        {
          "output_type": "stream",
          "name": "stdout",
          "text": [
            "      Id  SepalLengthCm  SepalWidthCm  PetalLengthCm  PetalWidthCm  \\\n",
            "0      1            5.1           3.5            1.4           0.2   \n",
            "1      2            4.9           3.0            1.4           0.2   \n",
            "2      3            4.7           3.2            1.3           0.2   \n",
            "3      4            4.6           3.1            1.5           0.2   \n",
            "4      5            5.0           3.6            1.4           0.2   \n",
            "..   ...            ...           ...            ...           ...   \n",
            "145  146            6.7           3.0            5.2           2.3   \n",
            "146  147            6.3           2.5            5.0           1.9   \n",
            "147  148            6.5           3.0            5.2           2.0   \n",
            "148  149            6.2           3.4            5.4           2.3   \n",
            "149  150            5.9           3.0            5.1           1.8   \n",
            "\n",
            "            Species  \n",
            "0       Iris-setosa  \n",
            "1       Iris-setosa  \n",
            "2       Iris-setosa  \n",
            "3       Iris-setosa  \n",
            "4       Iris-setosa  \n",
            "..              ...  \n",
            "145  Iris-virginica  \n",
            "146  Iris-virginica  \n",
            "147  Iris-virginica  \n",
            "148  Iris-virginica  \n",
            "149  Iris-virginica  \n",
            "\n",
            "[150 rows x 6 columns]\n",
            "[3.68507967 5.29596156 1.58074535 4.17206882 0.94384176 1.30523581\n",
            " 1.48593283 5.5868624  1.65123856 4.6833773  3.9054873  2.55472366\n",
            " 6.97733666 4.39247646 5.28057027 5.35106347 6.25454858 2.85208776\n",
            " 6.00335836 5.22546836 1.83193558 4.93456752 4.10157562 3.61458646\n",
            " 4.97427814 1.45515024 4.98966943 0.80285536 3.81067478 3.08788669] \n",
            "\n",
            "Mean Absoute Error:  0.5317538136278308\n",
            "Mean Squeared Error:  0.41260998670459054\n",
            "RMSE:  0.6423472477598005\n"
          ]
        }
      ],
      "source": [
        "import pandas as pd\n",
        "iris = pd.read_csv(\"/IRIS.csv\")\n",
        "print(iris)\n",
        "\n",
        "import numpy as np\n",
        "\n",
        "x = iris[['SepalLengthCm', 'SepalWidthCm']]\n",
        "y = iris.PetalLengthCm\n",
        "\n",
        "from sklearn.model_selection import train_test_split\n",
        "x_train, x_test, y_train, y_test = train_test_split(x,y,test_size=0.2)\n",
        "\n",
        "from sklearn.linear_model import LinearRegression\n",
        "LR = LinearRegression()\n",
        "\n",
        "training = LR.fit(x_train, y_train)\n",
        "y_pred = LR.predict(x_test)\n",
        "print(y_pred, \"\\n\")\n",
        "\n",
        "#pip install numpy\n",
        "import numpy as np\n",
        "from sklearn import metrics\n",
        "\n",
        "MAE = metrics.mean_absolute_error(y_test, y_pred)\n",
        "print(\"Mean Absoute Error: \", MAE)\n",
        "MSE = metrics.mean_squared_error(y_test, y_pred)\n",
        "print(\"Mean Squeared Error: \", MSE)\n",
        "RMSE = np.sqrt(metrics.mean_squared_error(y_test, y_pred))\n",
        "print(\"RMSE: \", RMSE)\n"
      ]
    },
    {
      "cell_type": "code",
      "source": [
        "from google.colab import drive\n",
        "drive.mount('/content/drive')"
      ],
      "metadata": {
        "id": "dmcyMYTSw1ex"
      },
      "execution_count": null,
      "outputs": []
    },
    {
      "cell_type": "markdown",
      "source": [
        "# New Section"
      ],
      "metadata": {
        "id": "QiHoqFnxxL_b"
      }
    },
    {
      "cell_type": "code",
      "source": [
        "import numpy as np\n",
        "\n",
        "x = iris[['SepalLengthCm']]\n",
        "y = iris.PetalLengthCm\n",
        "\n",
        "from sklearn.model_selection import train_test_split\n",
        "x_train, x_test, y_train, y_test = train_test_split(x,y,test_size=0.2)\n",
        "\n",
        "from sklearn.linear_model import LinearRegression\n",
        "LR = LinearRegression()\n",
        "\n",
        "training = LR.fit(x_train, y_train)\n",
        "y_pred = LR.predict(x_test)\n",
        "print(y_pred, \"\\n\")\n",
        "\n",
        "#pip install numpy\n",
        "import numpy as np\n",
        "from sklearn import metrics\n",
        "\n",
        "MAE = metrics.mean_absolute_error(y_test, y_pred)\n",
        "print(\"Mean Absoute Error: \", MAE)\n",
        "MSE = metrics.mean_squared_error(y_test, y_pred)\n",
        "print(\"Mean Squeared Error: \", MSE)\n",
        "RMSE = np.sqrt(metrics.mean_squared_error(y_test, y_pred))\n",
        "print(\"RMSE: \", RMSE)"
      ],
      "metadata": {
        "colab": {
          "base_uri": "https://localhost:8080/"
        },
        "id": "kOcIYtHWxyfs",
        "outputId": "ac538111-a866-4162-d338-462ef2696b25"
      },
      "execution_count": 6,
      "outputs": [
        {
          "output_type": "stream",
          "name": "stdout",
          "text": [
            "[4.44936774 3.15716569 2.41876452 5.3723692  3.15716569 2.23416423\n",
            " 4.81856832 4.26476745 4.63396803 2.23416423 5.55696949 1.12656248\n",
            " 3.52636628 2.78796511 4.26476745 5.3723692  5.18776891 5.74156979\n",
            " 3.15716569 2.9725654  2.41876452 2.9725654  4.08016715 4.08016715\n",
            " 7.21837212 3.52636628 2.41876452 4.26476745 3.15716569 5.3723692 ] \n",
            "\n",
            "Mean Absoute Error:  0.6475603216126801\n",
            "Mean Squeared Error:  0.597563338732835\n",
            "RMSE:  0.7730222110216723\n"
          ]
        }
      ]
    }
  ]
}